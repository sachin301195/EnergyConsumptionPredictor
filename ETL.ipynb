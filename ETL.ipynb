{
 "cells": [
  {
   "cell_type": "markdown",
   "id": "9ca43642-c9d1-49ea-a791-26ec92f1fa40",
   "metadata": {},
   "source": [
    "# Future Power Consumption for Canada and USA"
   ]
  },
  {
   "cell_type": "markdown",
   "id": "595224e0-fb70-41d7-89ab-aac90d903eec",
   "metadata": {},
   "source": [
    "## ETL"
   ]
  },
  {
   "cell_type": "markdown",
   "id": "59823d78-e32c-4af9-a39e-b2bb0892b923",
   "metadata": {},
   "source": [
    "***"
   ]
  },
  {
   "cell_type": "markdown",
   "id": "99fb3ce0-e1f4-4998-8a44-1d7dc8074104",
   "metadata": {},
   "source": [
    "## Data Explanation"
   ]
  },
  {
   "cell_type": "markdown",
   "id": "a4b126c3-6966-4a92-94cf-57d38abcdacf",
   "metadata": {},
   "source": [
    "Two different datasets are used in this project and both of them are obtained from Kaggle.   \n",
    "The Datasets are as followes:   \n",
    "**1. Global Electricity Statistics (1980-2021):**   \n",
    "> https://www.kaggle.com/datasets/akhiljethwa/global-electricity-statistics   \n",
    "The dataset represents yearly contrywise electricity measurement of 7 different metrics from 1980-2021.            \n",
    "    1. **Net Generation (billion kWh):** Electricity generation/production   \n",
    "    2. **Net Consumption (billion kWh):** Electricity consumption   \n",
    "    3. **Imports (billion kWh):** Electricity imports   \n",
    "    4. **Exports (billion kWh):** Electricity exports   \n",
    "    5. **Net Imports (billion kWh):** Electricity net imports   \n",
    "    6. **Installed Capacity (million kW):** The maximum amount of electricity that a generating station (also known as a power plant) can produce under specific conditions designated by the manufacturer   \n",
    "    7. **Distribution Losses (billion kWh):** Transmission and distribution losses refer to the losses that occur in                       transmission of electricity between the sources of supply and points of distribution.   \n",
    "        \n",
    "**2. World Population by Country:**\n",
    "> https://www.kaggle.com/datasets/rajkumarpandey02/2023-world-population-by-country   \n",
    "  Contrywise population with metrics like net change and population growth rate which can be used to predict future               electricity requirements."
   ]
  },
  {
   "cell_type": "markdown",
   "id": "95dbd118-5685-4829-abb2-2cf0d8d5604c",
   "metadata": {},
   "source": [
    "**Importing Libararies**"
   ]
  },
  {
   "cell_type": "code",
   "execution_count": 1,
   "id": "9c04deee-f643-49ac-b48a-642a01607d70",
   "metadata": {
    "tags": []
   },
   "outputs": [],
   "source": [
    "# For Data Analysis\n",
    "import numpy as np\n",
    "import pandas as pd\n",
    "\n",
    "# For Data Visualization\n",
    "import matplotlib.pyplot as plt\n",
    "import seaborn as sns\n",
    "import plotly.express as px\n",
    "import plotly.io as pio\n",
    "import ipywidgets\n",
    "from ipywidgets import interact, interactive, widgets, HBox, fixed\n",
    "from IPython.display import HTML\n",
    "import warnings\n",
    "from pandas.plotting import register_matplotlib_converters\n",
    "\n",
    "# Aditional import\n",
    "import datetime\n",
    "import os"
   ]
  },
  {
   "cell_type": "code",
   "execution_count": 2,
   "id": "ecdfc9ed-79ff-4122-beb4-662b8468e7f7",
   "metadata": {
    "tags": []
   },
   "outputs": [],
   "source": [
    "warnings.filterwarnings('ignore')\n",
    "layout = widgets.Layout(width = '400px', height = '30px')\n",
    "pio.templates.default = \"plotly_white\"\n",
    "%matplotlib inline"
   ]
  },
  {
   "cell_type": "markdown",
   "id": "5ee5d931-4d59-4eec-aa8f-b65289f4af4e",
   "metadata": {},
   "source": [
    "**Loading the Data**"
   ]
  },
  {
   "cell_type": "code",
   "execution_count": 4,
   "id": "f0d8ec67-b1ed-4fc9-9073-abf390e6d313",
   "metadata": {
    "tags": []
   },
   "outputs": [],
   "source": [
    "# Loading both Datasets for Electricity statistics and population\n",
    "df_electricity = pd.read_csv(r\"data\\Global Electricity Statistics.csv\")\n",
    "df_population = pd.read_csv(r\"data\\countries-table.csv\")"
   ]
  },
  {
   "cell_type": "markdown",
   "id": "c5e812de-6144-4730-a717-12f8a2e5ff15",
   "metadata": {},
   "source": [
    "**Data Cleaning**"
   ]
  },
  {
   "cell_type": "markdown",
   "id": "25ccd4c7-04c6-4368-aee8-88e30a849892",
   "metadata": {},
   "source": [
    "It was found during the data exploration that The data contains some white spaces in the Country Column.  \n",
    "So first task is to correct that and findout if thats the case for other attributes as well."
   ]
  },
  {
   "cell_type": "code",
   "execution_count": 5,
   "id": "ea16a816-b73b-4752-8612-2ee2ae6f7e82",
   "metadata": {
    "tags": []
   },
   "outputs": [
    {
     "data": {
      "text/plain": [
       "array(['        Algeria', '        Angola', '        Benin', ...,\n",
       "       '        U.S. Virgin Islands', '        Uruguay',\n",
       "       '        Venezuela'], dtype=object)"
      ]
     },
     "execution_count": 5,
     "metadata": {},
     "output_type": "execute_result"
    }
   ],
   "source": [
    "df_electricity['Country'].values"
   ]
  },
  {
   "cell_type": "code",
   "execution_count": 10,
   "id": "3c812052-7015-44bc-91e1-ece3eaca8355",
   "metadata": {
    "tags": []
   },
   "outputs": [],
   "source": [
    "# Assuming that whitespaces are present in all the columns itterating over the coulmns and removing the whitespace\n",
    "\n",
    "# Itterating over the columns for electricity dataset\n",
    "for col in df_electricity.columns:\n",
    "    # Checking if the attribute is of string type\n",
    "    if df_electricity[col].dtype == 'object':\n",
    "        df_electricity[col] = df_electricity[col].str.strip()"
   ]
  },
  {
   "cell_type": "code",
   "execution_count": 11,
   "id": "6985db5b-4915-4e9b-a8ce-52a23529c485",
   "metadata": {
    "tags": []
   },
   "outputs": [
    {
     "data": {
      "text/plain": [
       "array(['Algeria', 'Angola', 'Benin', ..., 'U.S. Virgin Islands',\n",
       "       'Uruguay', 'Venezuela'], dtype=object)"
      ]
     },
     "execution_count": 11,
     "metadata": {},
     "output_type": "execute_result"
    }
   ],
   "source": [
    "# Checking for the results\n",
    "df_electricity['Country'].values"
   ]
  },
  {
   "cell_type": "markdown",
   "id": "267728e9-29a0-4bbf-9847-c457577312f6",
   "metadata": {},
   "source": [
    "Filtering the data for Only Canada and USA"
   ]
  },
  {
   "cell_type": "code",
   "execution_count": 12,
   "id": "6cf5a324-47b3-48c7-8bc9-057386d46819",
   "metadata": {
    "tags": []
   },
   "outputs": [],
   "source": [
    "df_electricity_filtered = df_electricity[(df_electricity['Country'] == 'United States') | (df_electricity['Country'] == 'Canada')]"
   ]
  },
  {
   "cell_type": "code",
   "execution_count": 13,
   "id": "262da6b3-1678-4f5a-96c4-04683ee59e44",
   "metadata": {
    "tags": []
   },
   "outputs": [
    {
     "data": {
      "text/html": [
       "<div>\n",
       "<style scoped>\n",
       "    .dataframe tbody tr th:only-of-type {\n",
       "        vertical-align: middle;\n",
       "    }\n",
       "\n",
       "    .dataframe tbody tr th {\n",
       "        vertical-align: top;\n",
       "    }\n",
       "\n",
       "    .dataframe thead th {\n",
       "        text-align: right;\n",
       "    }\n",
       "</style>\n",
       "<table border=\"1\" class=\"dataframe\">\n",
       "  <thead>\n",
       "    <tr style=\"text-align: right;\">\n",
       "      <th></th>\n",
       "      <th>Country</th>\n",
       "      <th>Features</th>\n",
       "      <th>Region</th>\n",
       "      <th>1980</th>\n",
       "      <th>1981</th>\n",
       "      <th>1982</th>\n",
       "      <th>1983</th>\n",
       "      <th>1984</th>\n",
       "      <th>1985</th>\n",
       "      <th>1986</th>\n",
       "      <th>...</th>\n",
       "      <th>2012</th>\n",
       "      <th>2013</th>\n",
       "      <th>2014</th>\n",
       "      <th>2015</th>\n",
       "      <th>2016</th>\n",
       "      <th>2017</th>\n",
       "      <th>2018</th>\n",
       "      <th>2019</th>\n",
       "      <th>2020</th>\n",
       "      <th>2021</th>\n",
       "    </tr>\n",
       "  </thead>\n",
       "  <tbody>\n",
       "    <tr>\n",
       "      <th>179</th>\n",
       "      <td>Canada</td>\n",
       "      <td>net generation</td>\n",
       "      <td>North America</td>\n",
       "      <td>367.797</td>\n",
       "      <td>380.221</td>\n",
       "      <td>378.43</td>\n",
       "      <td>397.358</td>\n",
       "      <td>426.983</td>\n",
       "      <td>447.981</td>\n",
       "      <td>457.507</td>\n",
       "      <td>...</td>\n",
       "      <td>612.174504</td>\n",
       "      <td>637.650107</td>\n",
       "      <td>635.978212</td>\n",
       "      <td>638.850534</td>\n",
       "      <td>644.788913</td>\n",
       "      <td>644.58814</td>\n",
       "      <td>635.7934577</td>\n",
       "      <td>627.8128689</td>\n",
       "      <td>623.9828667</td>\n",
       "      <td>625.8546594</td>\n",
       "    </tr>\n",
       "    <tr>\n",
       "      <th>184</th>\n",
       "      <td>United States</td>\n",
       "      <td>net generation</td>\n",
       "      <td>North America</td>\n",
       "      <td>2289.600364</td>\n",
       "      <td>2297.973338</td>\n",
       "      <td>2244.372487</td>\n",
       "      <td>2313.445686</td>\n",
       "      <td>2419.465367</td>\n",
       "      <td>2473.00212</td>\n",
       "      <td>2490.470952</td>\n",
       "      <td>...</td>\n",
       "      <td>4054.26169</td>\n",
       "      <td>4074.145289</td>\n",
       "      <td>4104.796801</td>\n",
       "      <td>4092.85304</td>\n",
       "      <td>4096.386172</td>\n",
       "      <td>4059.433178</td>\n",
       "      <td>4210.526978</td>\n",
       "      <td>4165.531327</td>\n",
       "      <td>4051.289226</td>\n",
       "      <td>4164.564719</td>\n",
       "    </tr>\n",
       "    <tr>\n",
       "      <th>409</th>\n",
       "      <td>Canada</td>\n",
       "      <td>net consumption</td>\n",
       "      <td>North America</td>\n",
       "      <td>309.4796186</td>\n",
       "      <td>319.0600113</td>\n",
       "      <td>319.1662899</td>\n",
       "      <td>331.6464341</td>\n",
       "      <td>356.7081734</td>\n",
       "      <td>372.3747488</td>\n",
       "      <td>389.3921382</td>\n",
       "      <td>...</td>\n",
       "      <td>539.186083</td>\n",
       "      <td>560.744571</td>\n",
       "      <td>559.348308</td>\n",
       "      <td>543.406076</td>\n",
       "      <td>548.451276</td>\n",
       "      <td>547.034675</td>\n",
       "      <td>554.0621157</td>\n",
       "      <td>547.2500179</td>\n",
       "      <td>533.5070587</td>\n",
       "      <td>554.7443874</td>\n",
       "    </tr>\n",
       "    <tr>\n",
       "      <th>414</th>\n",
       "      <td>United States</td>\n",
       "      <td>net consumption</td>\n",
       "      <td>North America</td>\n",
       "      <td>2094.449</td>\n",
       "      <td>2147.102862</td>\n",
       "      <td>2086.441352</td>\n",
       "      <td>2150.954584</td>\n",
       "      <td>2285.796394</td>\n",
       "      <td>2323.973852</td>\n",
       "      <td>2368.753052</td>\n",
       "      <td>...</td>\n",
       "      <td>3838.802726</td>\n",
       "      <td>3876.510978</td>\n",
       "      <td>3914.50681</td>\n",
       "      <td>3914.299176</td>\n",
       "      <td>3921.110699</td>\n",
       "      <td>3888.305645</td>\n",
       "      <td>4032.628267</td>\n",
       "      <td>3989.378249</td>\n",
       "      <td>3897.894198</td>\n",
       "      <td>3979.279761</td>\n",
       "    </tr>\n",
       "    <tr>\n",
       "      <th>639</th>\n",
       "      <td>Canada</td>\n",
       "      <td>imports</td>\n",
       "      <td>North America</td>\n",
       "      <td>4.399618632</td>\n",
       "      <td>3.278011265</td>\n",
       "      <td>7.458289863</td>\n",
       "      <td>3.641434106</td>\n",
       "      <td>1.252173376</td>\n",
       "      <td>1.427748792</td>\n",
       "      <td>3.69713819</td>\n",
       "      <td>...</td>\n",
       "      <td>10.88722</td>\n",
       "      <td>11.370751</td>\n",
       "      <td>12.120716</td>\n",
       "      <td>10.770966</td>\n",
       "      <td>9.302534</td>\n",
       "      <td>9.893296</td>\n",
       "      <td>13.194693</td>\n",
       "      <td>13.334136</td>\n",
       "      <td>9.811685</td>\n",
       "      <td>10.067376</td>\n",
       "    </tr>\n",
       "  </tbody>\n",
       "</table>\n",
       "<p>5 rows × 45 columns</p>\n",
       "</div>"
      ],
      "text/plain": [
       "           Country         Features         Region         1980         1981  \\\n",
       "179         Canada   net generation  North America      367.797      380.221   \n",
       "184  United States   net generation  North America  2289.600364  2297.973338   \n",
       "409         Canada  net consumption  North America  309.4796186  319.0600113   \n",
       "414  United States  net consumption  North America     2094.449  2147.102862   \n",
       "639         Canada          imports  North America  4.399618632  3.278011265   \n",
       "\n",
       "            1982         1983         1984         1985         1986  ...  \\\n",
       "179       378.43      397.358      426.983      447.981      457.507  ...   \n",
       "184  2244.372487  2313.445686  2419.465367   2473.00212  2490.470952  ...   \n",
       "409  319.1662899  331.6464341  356.7081734  372.3747488  389.3921382  ...   \n",
       "414  2086.441352  2150.954584  2285.796394  2323.973852  2368.753052  ...   \n",
       "639  7.458289863  3.641434106  1.252173376  1.427748792   3.69713819  ...   \n",
       "\n",
       "            2012         2013         2014         2015         2016  \\\n",
       "179   612.174504   637.650107   635.978212   638.850534   644.788913   \n",
       "184   4054.26169  4074.145289  4104.796801   4092.85304  4096.386172   \n",
       "409   539.186083   560.744571   559.348308   543.406076   548.451276   \n",
       "414  3838.802726  3876.510978   3914.50681  3914.299176  3921.110699   \n",
       "639     10.88722    11.370751    12.120716    10.770966     9.302534   \n",
       "\n",
       "            2017         2018         2019         2020         2021  \n",
       "179    644.58814  635.7934577  627.8128689  623.9828667  625.8546594  \n",
       "184  4059.433178  4210.526978  4165.531327  4051.289226  4164.564719  \n",
       "409   547.034675  554.0621157  547.2500179  533.5070587  554.7443874  \n",
       "414  3888.305645  4032.628267  3989.378249  3897.894198  3979.279761  \n",
       "639     9.893296    13.194693    13.334136     9.811685    10.067376  \n",
       "\n",
       "[5 rows x 45 columns]"
      ]
     },
     "execution_count": 13,
     "metadata": {},
     "output_type": "execute_result"
    }
   ],
   "source": [
    "df_electricity_filtered.head()"
   ]
  },
  {
   "cell_type": "markdown",
   "id": "fe5f94c8-4cde-40bd-b4b0-8709e581bb48",
   "metadata": {},
   "source": [
    "Now before creating a cleaned electricity dafaframe, checking for the following things  \n",
    "- **Missing Values**\n",
    "- **Duplicate entries**\n",
    "- **Correcting to appropriated datatypes**\n",
    "- **Dummy Values**"
   ]
  },
  {
   "cell_type": "code",
   "execution_count": 17,
   "id": "4b481f06-2b25-46c3-a2c8-cc683affccd3",
   "metadata": {
    "tags": []
   },
   "outputs": [
    {
     "data": {
      "text/plain": [
       "Country     0\n",
       "Features    0\n",
       "Region      0\n",
       "1980        0\n",
       "1981        0\n",
       "1982        0\n",
       "1983        0\n",
       "1984        0\n",
       "1985        0\n",
       "1986        0\n",
       "1987        0\n",
       "1988        0\n",
       "1989        0\n",
       "1990        0\n",
       "1991        0\n",
       "1992        0\n",
       "1993        0\n",
       "1994        0\n",
       "1995        0\n",
       "1996        0\n",
       "1997        0\n",
       "1998        0\n",
       "1999        0\n",
       "2000        0\n",
       "2001        0\n",
       "2002        0\n",
       "2003        0\n",
       "2004        0\n",
       "2005        0\n",
       "2006        0\n",
       "2007        0\n",
       "2008        0\n",
       "2009        0\n",
       "2010        0\n",
       "2011        0\n",
       "2012        0\n",
       "2013        0\n",
       "2014        0\n",
       "2015        0\n",
       "2016        0\n",
       "2017        0\n",
       "2018        0\n",
       "2019        0\n",
       "2020        0\n",
       "2021        0\n",
       "dtype: int64"
      ]
     },
     "execution_count": 17,
     "metadata": {},
     "output_type": "execute_result"
    }
   ],
   "source": [
    "# Checking for missing values\n",
    "df_electricity_filtered.isnull().sum()"
   ]
  },
  {
   "cell_type": "markdown",
   "id": "6ffb0bc2-7284-4cbd-8add-39f149a84781",
   "metadata": {},
   "source": [
    "No missing values or null values found!  \n",
    "Checking for **Duplicate Values**"
   ]
  },
  {
   "cell_type": "code",
   "execution_count": 19,
   "id": "1273ed3e-9f94-448e-9793-e7f8297ca172",
   "metadata": {
    "tags": []
   },
   "outputs": [],
   "source": [
    "df_electricity_filtered.drop_duplicates(inplace = True)"
   ]
  },
  {
   "cell_type": "code",
   "execution_count": 23,
   "id": "75060713-ce8e-47dc-80e8-2311a6785b0e",
   "metadata": {
    "tags": []
   },
   "outputs": [
    {
     "name": "stdout",
     "output_type": "stream",
     "text": [
      "<class 'pandas.core.frame.DataFrame'>\n",
      "Int64Index: 14 entries, 179 to 1564\n",
      "Data columns (total 45 columns):\n",
      " #   Column    Non-Null Count  Dtype \n",
      "---  ------    --------------  ----- \n",
      " 0   Country   14 non-null     object\n",
      " 1   Features  14 non-null     object\n",
      " 2   Region    14 non-null     object\n",
      " 3   1980      14 non-null     object\n",
      " 4   1981      14 non-null     object\n",
      " 5   1982      14 non-null     object\n",
      " 6   1983      14 non-null     object\n",
      " 7   1984      14 non-null     object\n",
      " 8   1985      14 non-null     object\n",
      " 9   1986      14 non-null     object\n",
      " 10  1987      14 non-null     object\n",
      " 11  1988      14 non-null     object\n",
      " 12  1989      14 non-null     object\n",
      " 13  1990      14 non-null     object\n",
      " 14  1991      14 non-null     object\n",
      " 15  1992      14 non-null     object\n",
      " 16  1993      14 non-null     object\n",
      " 17  1994      14 non-null     object\n",
      " 18  1995      14 non-null     object\n",
      " 19  1996      14 non-null     object\n",
      " 20  1997      14 non-null     object\n",
      " 21  1998      14 non-null     object\n",
      " 22  1999      14 non-null     object\n",
      " 23  2000      14 non-null     object\n",
      " 24  2001      14 non-null     object\n",
      " 25  2002      14 non-null     object\n",
      " 26  2003      14 non-null     object\n",
      " 27  2004      14 non-null     object\n",
      " 28  2005      14 non-null     object\n",
      " 29  2006      14 non-null     object\n",
      " 30  2007      14 non-null     object\n",
      " 31  2008      14 non-null     object\n",
      " 32  2009      14 non-null     object\n",
      " 33  2010      14 non-null     object\n",
      " 34  2011      14 non-null     object\n",
      " 35  2012      14 non-null     object\n",
      " 36  2013      14 non-null     object\n",
      " 37  2014      14 non-null     object\n",
      " 38  2015      14 non-null     object\n",
      " 39  2016      14 non-null     object\n",
      " 40  2017      14 non-null     object\n",
      " 41  2018      14 non-null     object\n",
      " 42  2019      14 non-null     object\n",
      " 43  2020      14 non-null     object\n",
      " 44  2021      14 non-null     object\n",
      "dtypes: object(45)\n",
      "memory usage: 5.0+ KB\n"
     ]
    }
   ],
   "source": [
    "# checking the datatype of all the attributes\n",
    "df_electricity_filtered.info()"
   ]
  },
  {
   "cell_type": "code",
   "execution_count": 25,
   "id": "721a9653-94c1-4ebb-b733-a113d139b58a",
   "metadata": {
    "tags": []
   },
   "outputs": [],
   "source": [
    "# Since all are object data types changing them to appropriate datatypes\n",
    "for idx, col in enumerate(df_electricity_filtered.columns):\n",
    "    if idx < 3:\n",
    "        df_electricity_filtered[col] = df_electricity_filtered[col].astype(str)\n",
    "    else:\n",
    "        df_electricity_filtered[col] = df_electricity_filtered[col].astype(float)"
   ]
  },
  {
   "cell_type": "code",
   "execution_count": 29,
   "id": "1b4ab136-b5e1-44ec-864a-38229d33b77d",
   "metadata": {
    "tags": []
   },
   "outputs": [
    {
     "name": "stdout",
     "output_type": "stream",
     "text": [
      "<class 'pandas.core.frame.DataFrame'>\n",
      "Int64Index: 14 entries, 179 to 1564\n",
      "Data columns (total 45 columns):\n",
      " #   Column    Non-Null Count  Dtype  \n",
      "---  ------    --------------  -----  \n",
      " 0   Country   14 non-null     object \n",
      " 1   Features  14 non-null     object \n",
      " 2   Region    14 non-null     object \n",
      " 3   1980      14 non-null     float64\n",
      " 4   1981      14 non-null     float64\n",
      " 5   1982      14 non-null     float64\n",
      " 6   1983      14 non-null     float64\n",
      " 7   1984      14 non-null     float64\n",
      " 8   1985      14 non-null     float64\n",
      " 9   1986      14 non-null     float64\n",
      " 10  1987      14 non-null     float64\n",
      " 11  1988      14 non-null     float64\n",
      " 12  1989      14 non-null     float64\n",
      " 13  1990      14 non-null     float64\n",
      " 14  1991      14 non-null     float64\n",
      " 15  1992      14 non-null     float64\n",
      " 16  1993      14 non-null     float64\n",
      " 17  1994      14 non-null     float64\n",
      " 18  1995      14 non-null     float64\n",
      " 19  1996      14 non-null     float64\n",
      " 20  1997      14 non-null     float64\n",
      " 21  1998      14 non-null     float64\n",
      " 22  1999      14 non-null     float64\n",
      " 23  2000      14 non-null     float64\n",
      " 24  2001      14 non-null     float64\n",
      " 25  2002      14 non-null     float64\n",
      " 26  2003      14 non-null     float64\n",
      " 27  2004      14 non-null     float64\n",
      " 28  2005      14 non-null     float64\n",
      " 29  2006      14 non-null     float64\n",
      " 30  2007      14 non-null     float64\n",
      " 31  2008      14 non-null     float64\n",
      " 32  2009      14 non-null     float64\n",
      " 33  2010      14 non-null     float64\n",
      " 34  2011      14 non-null     float64\n",
      " 35  2012      14 non-null     float64\n",
      " 36  2013      14 non-null     float64\n",
      " 37  2014      14 non-null     float64\n",
      " 38  2015      14 non-null     float64\n",
      " 39  2016      14 non-null     float64\n",
      " 40  2017      14 non-null     float64\n",
      " 41  2018      14 non-null     float64\n",
      " 42  2019      14 non-null     float64\n",
      " 43  2020      14 non-null     float64\n",
      " 44  2021      14 non-null     float64\n",
      "dtypes: float64(42), object(3)\n",
      "memory usage: 5.0+ KB\n"
     ]
    }
   ],
   "source": [
    "df_electricity_filtered.info()"
   ]
  },
  {
   "cell_type": "markdown",
   "id": "0e74df93-cd4d-45b0-9731-90f6e98272c4",
   "metadata": {},
   "source": [
    "Data changed and there are no null values so possibility of dummy values for the filtered data is pretty less.   \n",
    "Thus directly converting the dataframe to csv file for further data exploration"
   ]
  },
  {
   "cell_type": "code",
   "execution_count": 30,
   "id": "3d108944-eb94-40a2-915f-abff7659fcff",
   "metadata": {
    "tags": []
   },
   "outputs": [],
   "source": [
    "df_electricity_filtered.to_csv('cleaned_filtered_electricity_data.csv', index=False)"
   ]
  },
  {
   "cell_type": "code",
   "execution_count": 31,
   "id": "3a994dd4-2bb5-4eae-bac1-798444b714af",
   "metadata": {
    "tags": []
   },
   "outputs": [
    {
     "data": {
      "text/html": [
       "<div>\n",
       "<style scoped>\n",
       "    .dataframe tbody tr th:only-of-type {\n",
       "        vertical-align: middle;\n",
       "    }\n",
       "\n",
       "    .dataframe tbody tr th {\n",
       "        vertical-align: top;\n",
       "    }\n",
       "\n",
       "    .dataframe thead th {\n",
       "        text-align: right;\n",
       "    }\n",
       "</style>\n",
       "<table border=\"1\" class=\"dataframe\">\n",
       "  <thead>\n",
       "    <tr style=\"text-align: right;\">\n",
       "      <th></th>\n",
       "      <th>country</th>\n",
       "      <th>rank</th>\n",
       "      <th>area</th>\n",
       "      <th>landAreaKm</th>\n",
       "      <th>cca2</th>\n",
       "      <th>cca3</th>\n",
       "      <th>netChange</th>\n",
       "      <th>growthRate</th>\n",
       "      <th>worldPercentage</th>\n",
       "      <th>density</th>\n",
       "      <th>densityMi</th>\n",
       "      <th>place</th>\n",
       "      <th>pop1980</th>\n",
       "      <th>pop2000</th>\n",
       "      <th>pop2010</th>\n",
       "      <th>pop2022</th>\n",
       "      <th>pop2023</th>\n",
       "      <th>pop2030</th>\n",
       "      <th>pop2050</th>\n",
       "    </tr>\n",
       "  </thead>\n",
       "  <tbody>\n",
       "    <tr>\n",
       "      <th>0</th>\n",
       "      <td>India</td>\n",
       "      <td>1</td>\n",
       "      <td>3287590.0</td>\n",
       "      <td>2973190.0</td>\n",
       "      <td>IN</td>\n",
       "      <td>IND</td>\n",
       "      <td>0.4184</td>\n",
       "      <td>0.0081</td>\n",
       "      <td>0.1785</td>\n",
       "      <td>480.5033</td>\n",
       "      <td>1244.5036</td>\n",
       "      <td>356</td>\n",
       "      <td>696828385</td>\n",
       "      <td>1059633675</td>\n",
       "      <td>1240613620</td>\n",
       "      <td>1417173173</td>\n",
       "      <td>1428627663</td>\n",
       "      <td>1514994080</td>\n",
       "      <td>1670490596</td>\n",
       "    </tr>\n",
       "    <tr>\n",
       "      <th>1</th>\n",
       "      <td>China</td>\n",
       "      <td>2</td>\n",
       "      <td>9706961.0</td>\n",
       "      <td>9424702.9</td>\n",
       "      <td>CN</td>\n",
       "      <td>CHN</td>\n",
       "      <td>-0.0113</td>\n",
       "      <td>-0.0002</td>\n",
       "      <td>0.1781</td>\n",
       "      <td>151.2696</td>\n",
       "      <td>391.7884</td>\n",
       "      <td>156</td>\n",
       "      <td>982372466</td>\n",
       "      <td>1264099069</td>\n",
       "      <td>1348191368</td>\n",
       "      <td>1425887337</td>\n",
       "      <td>1425671352</td>\n",
       "      <td>1415605906</td>\n",
       "      <td>1312636325</td>\n",
       "    </tr>\n",
       "    <tr>\n",
       "      <th>2</th>\n",
       "      <td>United States</td>\n",
       "      <td>3</td>\n",
       "      <td>9372610.0</td>\n",
       "      <td>9147420.0</td>\n",
       "      <td>US</td>\n",
       "      <td>USA</td>\n",
       "      <td>0.0581</td>\n",
       "      <td>0.0050</td>\n",
       "      <td>0.0425</td>\n",
       "      <td>37.1686</td>\n",
       "      <td>96.2666</td>\n",
       "      <td>840</td>\n",
       "      <td>223140018</td>\n",
       "      <td>282398554</td>\n",
       "      <td>311182845</td>\n",
       "      <td>338289857</td>\n",
       "      <td>339996563</td>\n",
       "      <td>352162301</td>\n",
       "      <td>375391963</td>\n",
       "    </tr>\n",
       "    <tr>\n",
       "      <th>3</th>\n",
       "      <td>Indonesia</td>\n",
       "      <td>4</td>\n",
       "      <td>1904569.0</td>\n",
       "      <td>1877519.0</td>\n",
       "      <td>ID</td>\n",
       "      <td>IDN</td>\n",
       "      <td>0.0727</td>\n",
       "      <td>0.0074</td>\n",
       "      <td>0.0347</td>\n",
       "      <td>147.8196</td>\n",
       "      <td>382.8528</td>\n",
       "      <td>360</td>\n",
       "      <td>148177096</td>\n",
       "      <td>214072421</td>\n",
       "      <td>244016173</td>\n",
       "      <td>275501339</td>\n",
       "      <td>277534122</td>\n",
       "      <td>292150100</td>\n",
       "      <td>317225213</td>\n",
       "    </tr>\n",
       "    <tr>\n",
       "      <th>4</th>\n",
       "      <td>Pakistan</td>\n",
       "      <td>5</td>\n",
       "      <td>881912.0</td>\n",
       "      <td>770880.0</td>\n",
       "      <td>PK</td>\n",
       "      <td>PAK</td>\n",
       "      <td>0.1495</td>\n",
       "      <td>0.0198</td>\n",
       "      <td>0.0300</td>\n",
       "      <td>311.9625</td>\n",
       "      <td>807.9829</td>\n",
       "      <td>586</td>\n",
       "      <td>80624057</td>\n",
       "      <td>154369924</td>\n",
       "      <td>194454498</td>\n",
       "      <td>235824862</td>\n",
       "      <td>240485658</td>\n",
       "      <td>274029836</td>\n",
       "      <td>367808468</td>\n",
       "    </tr>\n",
       "  </tbody>\n",
       "</table>\n",
       "</div>"
      ],
      "text/plain": [
       "         country  rank       area  landAreaKm cca2 cca3  netChange  \\\n",
       "0          India     1  3287590.0   2973190.0   IN  IND     0.4184   \n",
       "1          China     2  9706961.0   9424702.9   CN  CHN    -0.0113   \n",
       "2  United States     3  9372610.0   9147420.0   US  USA     0.0581   \n",
       "3      Indonesia     4  1904569.0   1877519.0   ID  IDN     0.0727   \n",
       "4       Pakistan     5   881912.0    770880.0   PK  PAK     0.1495   \n",
       "\n",
       "   growthRate  worldPercentage   density  densityMi  place    pop1980  \\\n",
       "0      0.0081           0.1785  480.5033  1244.5036    356  696828385   \n",
       "1     -0.0002           0.1781  151.2696   391.7884    156  982372466   \n",
       "2      0.0050           0.0425   37.1686    96.2666    840  223140018   \n",
       "3      0.0074           0.0347  147.8196   382.8528    360  148177096   \n",
       "4      0.0198           0.0300  311.9625   807.9829    586   80624057   \n",
       "\n",
       "      pop2000     pop2010     pop2022     pop2023     pop2030     pop2050  \n",
       "0  1059633675  1240613620  1417173173  1428627663  1514994080  1670490596  \n",
       "1  1264099069  1348191368  1425887337  1425671352  1415605906  1312636325  \n",
       "2   282398554   311182845   338289857   339996563   352162301   375391963  \n",
       "3   214072421   244016173   275501339   277534122   292150100   317225213  \n",
       "4   154369924   194454498   235824862   240485658   274029836   367808468  "
      ]
     },
     "execution_count": 31,
     "metadata": {},
     "output_type": "execute_result"
    }
   ],
   "source": [
    "df_population.head()"
   ]
  },
  {
   "cell_type": "code",
   "execution_count": 37,
   "id": "9b04a926-91ff-41b0-9945-d8b1cd2fbb46",
   "metadata": {
    "tags": []
   },
   "outputs": [],
   "source": [
    "# renaming the attributes to allign with out electricity data\n",
    "df_population = df_population.rename(columns = {'country': 'Country'})\n",
    "for col in df_population.columns:\n",
    "    if 'pop' in col:\n",
    "        new_name = col[3:]\n",
    "        df_population = df_population.rename(columns = {col: new_name})"
   ]
  },
  {
   "cell_type": "code",
   "execution_count": 45,
   "id": "00077a2d-ef64-40d2-b167-49d6fcd14c92",
   "metadata": {
    "tags": []
   },
   "outputs": [
    {
     "data": {
      "text/html": [
       "<div>\n",
       "<style scoped>\n",
       "    .dataframe tbody tr th:only-of-type {\n",
       "        vertical-align: middle;\n",
       "    }\n",
       "\n",
       "    .dataframe tbody tr th {\n",
       "        vertical-align: top;\n",
       "    }\n",
       "\n",
       "    .dataframe thead th {\n",
       "        text-align: right;\n",
       "    }\n",
       "</style>\n",
       "<table border=\"1\" class=\"dataframe\">\n",
       "  <thead>\n",
       "    <tr style=\"text-align: right;\">\n",
       "      <th></th>\n",
       "      <th>Country</th>\n",
       "      <th>rank</th>\n",
       "      <th>area</th>\n",
       "      <th>landAreaKm</th>\n",
       "      <th>cca2</th>\n",
       "      <th>cca3</th>\n",
       "      <th>netChange</th>\n",
       "      <th>growthRate</th>\n",
       "      <th>worldPercentage</th>\n",
       "      <th>density</th>\n",
       "      <th>densityMi</th>\n",
       "      <th>place</th>\n",
       "      <th>1980</th>\n",
       "      <th>2000</th>\n",
       "      <th>2010</th>\n",
       "      <th>2022</th>\n",
       "      <th>2023</th>\n",
       "      <th>2030</th>\n",
       "      <th>2050</th>\n",
       "    </tr>\n",
       "  </thead>\n",
       "  <tbody>\n",
       "    <tr>\n",
       "      <th>0</th>\n",
       "      <td>India</td>\n",
       "      <td>1</td>\n",
       "      <td>3287590.0</td>\n",
       "      <td>2973190.0</td>\n",
       "      <td>IN</td>\n",
       "      <td>IND</td>\n",
       "      <td>0.4184</td>\n",
       "      <td>0.0081</td>\n",
       "      <td>0.1785</td>\n",
       "      <td>480.5033</td>\n",
       "      <td>1244.5036</td>\n",
       "      <td>356</td>\n",
       "      <td>696828385</td>\n",
       "      <td>1059633675</td>\n",
       "      <td>1240613620</td>\n",
       "      <td>1417173173</td>\n",
       "      <td>1428627663</td>\n",
       "      <td>1514994080</td>\n",
       "      <td>1670490596</td>\n",
       "    </tr>\n",
       "    <tr>\n",
       "      <th>1</th>\n",
       "      <td>China</td>\n",
       "      <td>2</td>\n",
       "      <td>9706961.0</td>\n",
       "      <td>9424702.9</td>\n",
       "      <td>CN</td>\n",
       "      <td>CHN</td>\n",
       "      <td>-0.0113</td>\n",
       "      <td>-0.0002</td>\n",
       "      <td>0.1781</td>\n",
       "      <td>151.2696</td>\n",
       "      <td>391.7884</td>\n",
       "      <td>156</td>\n",
       "      <td>982372466</td>\n",
       "      <td>1264099069</td>\n",
       "      <td>1348191368</td>\n",
       "      <td>1425887337</td>\n",
       "      <td>1425671352</td>\n",
       "      <td>1415605906</td>\n",
       "      <td>1312636325</td>\n",
       "    </tr>\n",
       "    <tr>\n",
       "      <th>2</th>\n",
       "      <td>United States</td>\n",
       "      <td>3</td>\n",
       "      <td>9372610.0</td>\n",
       "      <td>9147420.0</td>\n",
       "      <td>US</td>\n",
       "      <td>USA</td>\n",
       "      <td>0.0581</td>\n",
       "      <td>0.0050</td>\n",
       "      <td>0.0425</td>\n",
       "      <td>37.1686</td>\n",
       "      <td>96.2666</td>\n",
       "      <td>840</td>\n",
       "      <td>223140018</td>\n",
       "      <td>282398554</td>\n",
       "      <td>311182845</td>\n",
       "      <td>338289857</td>\n",
       "      <td>339996563</td>\n",
       "      <td>352162301</td>\n",
       "      <td>375391963</td>\n",
       "    </tr>\n",
       "    <tr>\n",
       "      <th>3</th>\n",
       "      <td>Indonesia</td>\n",
       "      <td>4</td>\n",
       "      <td>1904569.0</td>\n",
       "      <td>1877519.0</td>\n",
       "      <td>ID</td>\n",
       "      <td>IDN</td>\n",
       "      <td>0.0727</td>\n",
       "      <td>0.0074</td>\n",
       "      <td>0.0347</td>\n",
       "      <td>147.8196</td>\n",
       "      <td>382.8528</td>\n",
       "      <td>360</td>\n",
       "      <td>148177096</td>\n",
       "      <td>214072421</td>\n",
       "      <td>244016173</td>\n",
       "      <td>275501339</td>\n",
       "      <td>277534122</td>\n",
       "      <td>292150100</td>\n",
       "      <td>317225213</td>\n",
       "    </tr>\n",
       "    <tr>\n",
       "      <th>4</th>\n",
       "      <td>Pakistan</td>\n",
       "      <td>5</td>\n",
       "      <td>881912.0</td>\n",
       "      <td>770880.0</td>\n",
       "      <td>PK</td>\n",
       "      <td>PAK</td>\n",
       "      <td>0.1495</td>\n",
       "      <td>0.0198</td>\n",
       "      <td>0.0300</td>\n",
       "      <td>311.9625</td>\n",
       "      <td>807.9829</td>\n",
       "      <td>586</td>\n",
       "      <td>80624057</td>\n",
       "      <td>154369924</td>\n",
       "      <td>194454498</td>\n",
       "      <td>235824862</td>\n",
       "      <td>240485658</td>\n",
       "      <td>274029836</td>\n",
       "      <td>367808468</td>\n",
       "    </tr>\n",
       "  </tbody>\n",
       "</table>\n",
       "</div>"
      ],
      "text/plain": [
       "         Country  rank       area  landAreaKm cca2 cca3  netChange  \\\n",
       "0          India     1  3287590.0   2973190.0   IN  IND     0.4184   \n",
       "1          China     2  9706961.0   9424702.9   CN  CHN    -0.0113   \n",
       "2  United States     3  9372610.0   9147420.0   US  USA     0.0581   \n",
       "3      Indonesia     4  1904569.0   1877519.0   ID  IDN     0.0727   \n",
       "4       Pakistan     5   881912.0    770880.0   PK  PAK     0.1495   \n",
       "\n",
       "   growthRate  worldPercentage   density  densityMi  place       1980  \\\n",
       "0      0.0081           0.1785  480.5033  1244.5036    356  696828385   \n",
       "1     -0.0002           0.1781  151.2696   391.7884    156  982372466   \n",
       "2      0.0050           0.0425   37.1686    96.2666    840  223140018   \n",
       "3      0.0074           0.0347  147.8196   382.8528    360  148177096   \n",
       "4      0.0198           0.0300  311.9625   807.9829    586   80624057   \n",
       "\n",
       "         2000        2010        2022        2023        2030        2050  \n",
       "0  1059633675  1240613620  1417173173  1428627663  1514994080  1670490596  \n",
       "1  1264099069  1348191368  1425887337  1425671352  1415605906  1312636325  \n",
       "2   282398554   311182845   338289857   339996563   352162301   375391963  \n",
       "3   214072421   244016173   275501339   277534122   292150100   317225213  \n",
       "4   154369924   194454498   235824862   240485658   274029836   367808468  "
      ]
     },
     "execution_count": 45,
     "metadata": {},
     "output_type": "execute_result"
    }
   ],
   "source": [
    "df_population.head()"
   ]
  },
  {
   "cell_type": "markdown",
   "id": "9ac210c3-b152-416b-b0c5-4fc71787d972",
   "metadata": {},
   "source": [
    "Gathering all the required columns and deleting the others"
   ]
  },
  {
   "cell_type": "code",
   "execution_count": 39,
   "id": "1d4e65f3-d46d-447f-b37e-217c92228b81",
   "metadata": {
    "tags": []
   },
   "outputs": [],
   "source": [
    "df_population_new = df_population[[\"Country\", \"growthRate\", \"netChange\", \"1980\", \"2000\", \"2010\", \"2022\", \"2023\", \"2030\", \"2050\"]]"
   ]
  },
  {
   "cell_type": "code",
   "execution_count": 42,
   "id": "9202f9dd-6159-4898-879b-6a6cc8168fb0",
   "metadata": {
    "tags": []
   },
   "outputs": [],
   "source": [
    "df_population_filtered = df_population_new[(df_population_new['Country'] == 'United States') | (df_population_new['Country'] == 'Canada')]"
   ]
  },
  {
   "cell_type": "code",
   "execution_count": 43,
   "id": "b47004da-6524-4486-9949-64e8d9782788",
   "metadata": {
    "tags": []
   },
   "outputs": [
    {
     "data": {
      "text/html": [
       "<div>\n",
       "<style scoped>\n",
       "    .dataframe tbody tr th:only-of-type {\n",
       "        vertical-align: middle;\n",
       "    }\n",
       "\n",
       "    .dataframe tbody tr th {\n",
       "        vertical-align: top;\n",
       "    }\n",
       "\n",
       "    .dataframe thead th {\n",
       "        text-align: right;\n",
       "    }\n",
       "</style>\n",
       "<table border=\"1\" class=\"dataframe\">\n",
       "  <thead>\n",
       "    <tr style=\"text-align: right;\">\n",
       "      <th></th>\n",
       "      <th>Country</th>\n",
       "      <th>growthRate</th>\n",
       "      <th>netChange</th>\n",
       "      <th>1980</th>\n",
       "      <th>2000</th>\n",
       "      <th>2010</th>\n",
       "      <th>2022</th>\n",
       "      <th>2023</th>\n",
       "      <th>2030</th>\n",
       "      <th>2050</th>\n",
       "    </tr>\n",
       "  </thead>\n",
       "  <tbody>\n",
       "    <tr>\n",
       "      <th>2</th>\n",
       "      <td>United States</td>\n",
       "      <td>0.0050</td>\n",
       "      <td>0.0581</td>\n",
       "      <td>223140018</td>\n",
       "      <td>282398554</td>\n",
       "      <td>311182845</td>\n",
       "      <td>338289857</td>\n",
       "      <td>339996563</td>\n",
       "      <td>352162301</td>\n",
       "      <td>375391963</td>\n",
       "    </tr>\n",
       "    <tr>\n",
       "      <th>37</th>\n",
       "      <td>Canada</td>\n",
       "      <td>0.0085</td>\n",
       "      <td>0.0104</td>\n",
       "      <td>24511510</td>\n",
       "      <td>30683313</td>\n",
       "      <td>33963412</td>\n",
       "      <td>38454327</td>\n",
       "      <td>38781291</td>\n",
       "      <td>41008596</td>\n",
       "      <td>45890819</td>\n",
       "    </tr>\n",
       "  </tbody>\n",
       "</table>\n",
       "</div>"
      ],
      "text/plain": [
       "          Country  growthRate  netChange       1980       2000       2010  \\\n",
       "2   United States      0.0050     0.0581  223140018  282398554  311182845   \n",
       "37         Canada      0.0085     0.0104   24511510   30683313   33963412   \n",
       "\n",
       "         2022       2023       2030       2050  \n",
       "2   338289857  339996563  352162301  375391963  \n",
       "37   38454327   38781291   41008596   45890819  "
      ]
     },
     "execution_count": 43,
     "metadata": {},
     "output_type": "execute_result"
    }
   ],
   "source": [
    "df_population_filtered.head()"
   ]
  },
  {
   "cell_type": "code",
   "execution_count": 46,
   "id": "08a0a658-dc0c-43e7-8cba-8e47f13a51c1",
   "metadata": {
    "tags": []
   },
   "outputs": [],
   "source": [
    "df_population_filtered.to_csv('cleaned_filtered_population_data.csv', index=False)"
   ]
  },
  {
   "cell_type": "code",
   "execution_count": null,
   "id": "52d77803-1d7f-4e55-91b6-4bec8a443ae4",
   "metadata": {},
   "outputs": [],
   "source": []
  }
 ],
 "metadata": {
  "kernelspec": {
   "display_name": "Python 3 (ipykernel)",
   "language": "python",
   "name": "python3"
  },
  "language_info": {
   "codemirror_mode": {
    "name": "ipython",
    "version": 3
   },
   "file_extension": ".py",
   "mimetype": "text/x-python",
   "name": "python",
   "nbconvert_exporter": "python",
   "pygments_lexer": "ipython3",
   "version": "3.10.10"
  }
 },
 "nbformat": 4,
 "nbformat_minor": 5
}
